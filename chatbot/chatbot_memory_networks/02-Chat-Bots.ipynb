{
 "cells": [
  {
   "cell_type": "markdown",
   "metadata": {},
   "source": [
    "___\n",
    "\n",
    "<a href='http://www.pieriandata.com'> <img src='../Pierian_Data_Logo.png' /></a>\n",
    "___\n",
    "# Question and Answer Chat Bots"
   ]
  },
  {
   "cell_type": "markdown",
   "metadata": {},
   "source": [
    "----\n",
    "\n",
    "------"
   ]
  },
  {
   "cell_type": "markdown",
   "metadata": {},
   "source": [
    "## Loading the Data\n",
    "\n",
    "We will be working with the Babi Data Set from Facebook Research.\n",
    "\n",
    "Full Details: https://research.fb.com/downloads/babi/\n",
    "\n",
    "- Jason Weston, Antoine Bordes, Sumit Chopra, Tomas Mikolov, Alexander M. Rush,\n",
    "  \"Towards AI-Complete Question Answering: A Set of Prerequisite Toy Tasks\",\n",
    "  http://arxiv.org/abs/1502.05698\n"
   ]
  },
  {
   "cell_type": "code",
   "execution_count": 1,
   "metadata": {},
   "outputs": [],
   "source": [
    "import pickle\n",
    "import numpy as np"
   ]
  },
  {
   "cell_type": "code",
   "execution_count": 2,
   "metadata": {},
   "outputs": [],
   "source": [
    "with open(\"train_qa.txt\", \"rb\") as fp:   # Unpickling\n",
    "    train_data =  pickle.load(fp)"
   ]
  },
  {
   "cell_type": "code",
   "execution_count": 3,
   "metadata": {},
   "outputs": [],
   "source": [
    "with open(\"test_qa.txt\", \"rb\") as fp:   # Unpickling\n",
    "    test_data =  pickle.load(fp)"
   ]
  },
  {
   "cell_type": "markdown",
   "metadata": {},
   "source": [
    "----"
   ]
  },
  {
   "cell_type": "markdown",
   "metadata": {},
   "source": [
    "## Exploring the Format of the Data"
   ]
  },
  {
   "cell_type": "code",
   "execution_count": 4,
   "metadata": {},
   "outputs": [
    {
     "data": {
      "text/plain": [
       "list"
      ]
     },
     "execution_count": 4,
     "metadata": {},
     "output_type": "execute_result"
    }
   ],
   "source": [
    "type(test_data)"
   ]
  },
  {
   "cell_type": "code",
   "execution_count": 5,
   "metadata": {},
   "outputs": [
    {
     "data": {
      "text/plain": [
       "list"
      ]
     },
     "execution_count": 5,
     "metadata": {},
     "output_type": "execute_result"
    }
   ],
   "source": [
    "type(train_data)"
   ]
  },
  {
   "cell_type": "code",
   "execution_count": 6,
   "metadata": {},
   "outputs": [
    {
     "data": {
      "text/plain": [
       "1000"
      ]
     },
     "execution_count": 6,
     "metadata": {},
     "output_type": "execute_result"
    }
   ],
   "source": [
    "len(test_data)"
   ]
  },
  {
   "cell_type": "code",
   "execution_count": 7,
   "metadata": {},
   "outputs": [
    {
     "data": {
      "text/plain": [
       "10000"
      ]
     },
     "execution_count": 7,
     "metadata": {},
     "output_type": "execute_result"
    }
   ],
   "source": [
    "len(train_data)"
   ]
  },
  {
   "cell_type": "code",
   "execution_count": 8,
   "metadata": {},
   "outputs": [
    {
     "data": {
      "text/plain": [
       "(['Mary',\n",
       "  'moved',\n",
       "  'to',\n",
       "  'the',\n",
       "  'bathroom',\n",
       "  '.',\n",
       "  'Sandra',\n",
       "  'journeyed',\n",
       "  'to',\n",
       "  'the',\n",
       "  'bedroom',\n",
       "  '.'],\n",
       " ['Is', 'Sandra', 'in', 'the', 'hallway', '?'],\n",
       " 'no')"
      ]
     },
     "execution_count": 8,
     "metadata": {},
     "output_type": "execute_result"
    }
   ],
   "source": [
    "train_data[0]"
   ]
  },
  {
   "cell_type": "code",
   "execution_count": 9,
   "metadata": {},
   "outputs": [
    {
     "data": {
      "text/plain": [
       "'Mary moved to the bathroom . Sandra journeyed to the bedroom .'"
      ]
     },
     "execution_count": 9,
     "metadata": {},
     "output_type": "execute_result"
    }
   ],
   "source": [
    "' '.join(train_data[0][0])"
   ]
  },
  {
   "cell_type": "code",
   "execution_count": 10,
   "metadata": {},
   "outputs": [
    {
     "data": {
      "text/plain": [
       "'Is Sandra in the hallway ?'"
      ]
     },
     "execution_count": 10,
     "metadata": {},
     "output_type": "execute_result"
    }
   ],
   "source": [
    "' '.join(train_data[0][1])"
   ]
  },
  {
   "cell_type": "code",
   "execution_count": 11,
   "metadata": {},
   "outputs": [
    {
     "data": {
      "text/plain": [
       "'no'"
      ]
     },
     "execution_count": 11,
     "metadata": {},
     "output_type": "execute_result"
    }
   ],
   "source": [
    "train_data[0][2]"
   ]
  },
  {
   "cell_type": "markdown",
   "metadata": {},
   "source": [
    "-----\n",
    "\n",
    "## Setting up Vocabulary of All Words"
   ]
  },
  {
   "cell_type": "code",
   "execution_count": 12,
   "metadata": {},
   "outputs": [],
   "source": [
    "# Create a set that holds the vocab words\n",
    "vocab = set()"
   ]
  },
  {
   "cell_type": "code",
   "execution_count": 13,
   "metadata": {},
   "outputs": [],
   "source": [
    "all_data = test_data + train_data"
   ]
  },
  {
   "cell_type": "code",
   "execution_count": 14,
   "metadata": {},
   "outputs": [],
   "source": [
    "for story, question , answer in all_data:\n",
    "    # In case you don't know what a union of sets is:\n",
    "    # https://www.programiz.com/python-programming/methods/set/union\n",
    "    vocab = vocab.union(set(story))\n",
    "    vocab = vocab.union(set(question))"
   ]
  },
  {
   "cell_type": "code",
   "execution_count": 15,
   "metadata": {},
   "outputs": [],
   "source": [
    "vocab.add('no')\n",
    "vocab.add('yes')"
   ]
  },
  {
   "cell_type": "code",
   "execution_count": 16,
   "metadata": {},
   "outputs": [
    {
     "data": {
      "text/plain": [
       "{'.',\n",
       " '?',\n",
       " 'Daniel',\n",
       " 'Is',\n",
       " 'John',\n",
       " 'Mary',\n",
       " 'Sandra',\n",
       " 'apple',\n",
       " 'back',\n",
       " 'bathroom',\n",
       " 'bedroom',\n",
       " 'discarded',\n",
       " 'down',\n",
       " 'dropped',\n",
       " 'football',\n",
       " 'garden',\n",
       " 'got',\n",
       " 'grabbed',\n",
       " 'hallway',\n",
       " 'in',\n",
       " 'journeyed',\n",
       " 'kitchen',\n",
       " 'left',\n",
       " 'milk',\n",
       " 'moved',\n",
       " 'no',\n",
       " 'office',\n",
       " 'picked',\n",
       " 'put',\n",
       " 'the',\n",
       " 'there',\n",
       " 'to',\n",
       " 'took',\n",
       " 'travelled',\n",
       " 'up',\n",
       " 'went',\n",
       " 'yes'}"
      ]
     },
     "execution_count": 16,
     "metadata": {},
     "output_type": "execute_result"
    }
   ],
   "source": [
    "vocab"
   ]
  },
  {
   "cell_type": "code",
   "execution_count": 17,
   "metadata": {},
   "outputs": [],
   "source": [
    "vocab_len = len(vocab) + 1 #we add an extra space to hold a 0 for Keras's pad_sequences"
   ]
  },
  {
   "cell_type": "code",
   "execution_count": 18,
   "metadata": {},
   "outputs": [],
   "source": [
    "max_story_len = max([len(data[0]) for data in all_data])"
   ]
  },
  {
   "cell_type": "code",
   "execution_count": 19,
   "metadata": {},
   "outputs": [
    {
     "data": {
      "text/plain": [
       "156"
      ]
     },
     "execution_count": 19,
     "metadata": {},
     "output_type": "execute_result"
    }
   ],
   "source": [
    "max_story_len"
   ]
  },
  {
   "cell_type": "code",
   "execution_count": 20,
   "metadata": {},
   "outputs": [],
   "source": [
    "max_question_len = max([len(data[1]) for data in all_data])"
   ]
  },
  {
   "cell_type": "code",
   "execution_count": 21,
   "metadata": {},
   "outputs": [
    {
     "data": {
      "text/plain": [
       "6"
      ]
     },
     "execution_count": 21,
     "metadata": {},
     "output_type": "execute_result"
    }
   ],
   "source": [
    "max_question_len"
   ]
  },
  {
   "cell_type": "markdown",
   "metadata": {},
   "source": [
    "## Vectorizing the Data"
   ]
  },
  {
   "cell_type": "code",
   "execution_count": 22,
   "metadata": {},
   "outputs": [
    {
     "data": {
      "text/plain": [
       "{'.',\n",
       " '?',\n",
       " 'Daniel',\n",
       " 'Is',\n",
       " 'John',\n",
       " 'Mary',\n",
       " 'Sandra',\n",
       " 'apple',\n",
       " 'back',\n",
       " 'bathroom',\n",
       " 'bedroom',\n",
       " 'discarded',\n",
       " 'down',\n",
       " 'dropped',\n",
       " 'football',\n",
       " 'garden',\n",
       " 'got',\n",
       " 'grabbed',\n",
       " 'hallway',\n",
       " 'in',\n",
       " 'journeyed',\n",
       " 'kitchen',\n",
       " 'left',\n",
       " 'milk',\n",
       " 'moved',\n",
       " 'no',\n",
       " 'office',\n",
       " 'picked',\n",
       " 'put',\n",
       " 'the',\n",
       " 'there',\n",
       " 'to',\n",
       " 'took',\n",
       " 'travelled',\n",
       " 'up',\n",
       " 'went',\n",
       " 'yes'}"
      ]
     },
     "execution_count": 22,
     "metadata": {},
     "output_type": "execute_result"
    }
   ],
   "source": [
    "vocab"
   ]
  },
  {
   "cell_type": "code",
   "execution_count": 23,
   "metadata": {},
   "outputs": [],
   "source": [
    "# Reserve 0 for pad_sequences\n",
    "vocab_size = len(vocab) + 1"
   ]
  },
  {
   "cell_type": "markdown",
   "metadata": {},
   "source": [
    "-----------"
   ]
  },
  {
   "cell_type": "code",
   "execution_count": 24,
   "metadata": {},
   "outputs": [
    {
     "name": "stderr",
     "output_type": "stream",
     "text": [
      "Using TensorFlow backend.\n"
     ]
    }
   ],
   "source": [
    "from keras.preprocessing.sequence import pad_sequences\n",
    "from keras.preprocessing.text import Tokenizer"
   ]
  },
  {
   "cell_type": "code",
   "execution_count": 25,
   "metadata": {},
   "outputs": [],
   "source": [
    "# integer encode sequences of words\n",
    "tokenizer = Tokenizer(filters=[])\n",
    "tokenizer.fit_on_texts(vocab)"
   ]
  },
  {
   "cell_type": "code",
   "execution_count": 26,
   "metadata": {},
   "outputs": [
    {
     "data": {
      "text/plain": [
       "{'discarded': 1,\n",
       " 'sandra': 2,\n",
       " 'no': 3,\n",
       " 'to': 4,\n",
       " 'got': 5,\n",
       " 'went': 6,\n",
       " 'garden': 7,\n",
       " 'football': 8,\n",
       " 'travelled': 9,\n",
       " 'bathroom': 10,\n",
       " 'the': 11,\n",
       " 'there': 12,\n",
       " 'took': 13,\n",
       " 'put': 14,\n",
       " 'daniel': 15,\n",
       " 'milk': 16,\n",
       " 'moved': 17,\n",
       " 'yes': 18,\n",
       " 'mary': 19,\n",
       " 'is': 20,\n",
       " 'grabbed': 21,\n",
       " '.': 22,\n",
       " 'back': 23,\n",
       " 'journeyed': 24,\n",
       " 'left': 25,\n",
       " 'apple': 26,\n",
       " 'up': 27,\n",
       " 'office': 28,\n",
       " 'down': 29,\n",
       " 'kitchen': 30,\n",
       " 'john': 31,\n",
       " '?': 32,\n",
       " 'picked': 33,\n",
       " 'dropped': 34,\n",
       " 'hallway': 35,\n",
       " 'bedroom': 36,\n",
       " 'in': 37}"
      ]
     },
     "execution_count": 26,
     "metadata": {},
     "output_type": "execute_result"
    }
   ],
   "source": [
    "tokenizer.word_index"
   ]
  },
  {
   "cell_type": "code",
   "execution_count": 27,
   "metadata": {},
   "outputs": [],
   "source": [
    "train_story_text = []\n",
    "train_question_text = []\n",
    "train_answers = []\n",
    "\n",
    "for story,question,answer in train_data:\n",
    "    train_story_text.append(story)\n",
    "    train_question_text.append(question)"
   ]
  },
  {
   "cell_type": "code",
   "execution_count": 28,
   "metadata": {},
   "outputs": [],
   "source": [
    "train_story_seq = tokenizer.texts_to_sequences(train_story_text)"
   ]
  },
  {
   "cell_type": "code",
   "execution_count": 29,
   "metadata": {},
   "outputs": [
    {
     "data": {
      "text/plain": [
       "10000"
      ]
     },
     "execution_count": 29,
     "metadata": {},
     "output_type": "execute_result"
    }
   ],
   "source": [
    "len(train_story_text)"
   ]
  },
  {
   "cell_type": "code",
   "execution_count": 30,
   "metadata": {},
   "outputs": [
    {
     "data": {
      "text/plain": [
       "10000"
      ]
     },
     "execution_count": 30,
     "metadata": {},
     "output_type": "execute_result"
    }
   ],
   "source": [
    "len(train_story_seq)"
   ]
  },
  {
   "cell_type": "code",
   "execution_count": 31,
   "metadata": {},
   "outputs": [],
   "source": [
    "# word_index = tokenizer.word_index"
   ]
  },
  {
   "cell_type": "markdown",
   "metadata": {},
   "source": [
    "### Functionalize Vectorization"
   ]
  },
  {
   "cell_type": "code",
   "execution_count": 32,
   "metadata": {},
   "outputs": [],
   "source": [
    "def vectorize_stories(data, word_index=tokenizer.word_index, max_story_len=max_story_len,max_question_len=max_question_len):\n",
    "    '''\n",
    "    INPUT: \n",
    "    \n",
    "    data: consisting of Stories,Queries,and Answers\n",
    "    word_index: word index dictionary from tokenizer\n",
    "    max_story_len: the length of the longest story (used for pad_sequences function)\n",
    "    max_question_len: length of the longest question (used for pad_sequences function)\n",
    "\n",
    "\n",
    "    OUTPUT:\n",
    "    \n",
    "    Vectorizes the stories,questions, and answers into padded sequences. We first loop for every story, query , and\n",
    "    answer in the data. Then we convert the raw words to an word index value. Then we append each set to their appropriate\n",
    "    output list. Then once we have converted the words to numbers, we pad the sequences so they are all of equal length.\n",
    "    \n",
    "    Returns this in the form of a tuple (X,Xq,Y) (padded based on max lengths)\n",
    "    '''\n",
    "    \n",
    "    \n",
    "    # X = STORIES\n",
    "    X = []\n",
    "    # Xq = QUERY/QUESTION\n",
    "    Xq = []\n",
    "    # Y = CORRECT ANSWER\n",
    "    Y = []\n",
    "    \n",
    "    \n",
    "    for story, query, answer in data:\n",
    "        \n",
    "        # Grab the word index for every word in story\n",
    "        x = [word_index[word.lower()] for word in story]\n",
    "        # Grab the word index for every word in query\n",
    "        xq = [word_index[word.lower()] for word in query]\n",
    "        \n",
    "        # Grab the Answers (either Yes/No so we don't need to use list comprehension here)\n",
    "        # Index 0 is reserved so we're going to use + 1\n",
    "        y = np.zeros(len(word_index) + 1)\n",
    "        \n",
    "        # Now that y is all zeros and we know its just Yes/No , we can use numpy logic to create this assignment\n",
    "        #\n",
    "        y[word_index[answer]] = 1\n",
    "        \n",
    "        # Append each set of story,query, and answer to their respective holding lists\n",
    "        X.append(x)\n",
    "        Xq.append(xq)\n",
    "        Y.append(y)\n",
    "        \n",
    "    # Finally, pad the sequences based on their max length so the RNN can be trained on uniformly long sequences.\n",
    "        \n",
    "    # RETURN TUPLE FOR UNPACKING\n",
    "    return (pad_sequences(X, maxlen=max_story_len),pad_sequences(Xq, maxlen=max_question_len), np.array(Y))"
   ]
  },
  {
   "cell_type": "code",
   "execution_count": 33,
   "metadata": {},
   "outputs": [],
   "source": [
    "inputs_train, queries_train, answers_train = vectorize_stories(train_data)"
   ]
  },
  {
   "cell_type": "code",
   "execution_count": 34,
   "metadata": {},
   "outputs": [],
   "source": [
    "inputs_test, queries_test, answers_test = vectorize_stories(test_data)"
   ]
  },
  {
   "cell_type": "code",
   "execution_count": 35,
   "metadata": {},
   "outputs": [
    {
     "data": {
      "text/plain": [
       "array([[ 0,  0,  0, ..., 11, 36, 22],\n",
       "       [ 0,  0,  0, ..., 11,  7, 22],\n",
       "       [ 0,  0,  0, ..., 11,  7, 22],\n",
       "       ...,\n",
       "       [ 0,  0,  0, ..., 11, 26, 22],\n",
       "       [ 0,  0,  0, ..., 11,  7, 22],\n",
       "       [ 0,  0,  0, ..., 26, 12, 22]], dtype=int32)"
      ]
     },
     "execution_count": 35,
     "metadata": {},
     "output_type": "execute_result"
    }
   ],
   "source": [
    "inputs_test"
   ]
  },
  {
   "cell_type": "code",
   "execution_count": 36,
   "metadata": {},
   "outputs": [
    {
     "data": {
      "text/plain": [
       "array([[20, 31, 37, 11, 30, 32],\n",
       "       [20, 31, 37, 11, 30, 32],\n",
       "       [20, 31, 37, 11,  7, 32],\n",
       "       ...,\n",
       "       [20, 19, 37, 11, 36, 32],\n",
       "       [20,  2, 37, 11,  7, 32],\n",
       "       [20, 19, 37, 11,  7, 32]], dtype=int32)"
      ]
     },
     "execution_count": 36,
     "metadata": {},
     "output_type": "execute_result"
    }
   ],
   "source": [
    "queries_test"
   ]
  },
  {
   "cell_type": "code",
   "execution_count": 37,
   "metadata": {},
   "outputs": [
    {
     "data": {
      "text/plain": [
       "array([[0., 0., 0., ..., 0., 0., 0.],\n",
       "       [0., 0., 0., ..., 0., 0., 0.],\n",
       "       [0., 0., 0., ..., 0., 0., 0.],\n",
       "       ...,\n",
       "       [0., 0., 0., ..., 0., 0., 0.],\n",
       "       [0., 0., 0., ..., 0., 0., 0.],\n",
       "       [0., 0., 0., ..., 0., 0., 0.]])"
      ]
     },
     "execution_count": 37,
     "metadata": {},
     "output_type": "execute_result"
    }
   ],
   "source": [
    "answers_test"
   ]
  },
  {
   "cell_type": "code",
   "execution_count": 38,
   "metadata": {},
   "outputs": [
    {
     "data": {
      "text/plain": [
       "array([  0.,   0.,   0., 503.,   0.,   0.,   0.,   0.,   0.,   0.,   0.,\n",
       "         0.,   0.,   0.,   0.,   0.,   0.,   0., 497.,   0.,   0.,   0.,\n",
       "         0.,   0.,   0.,   0.,   0.,   0.,   0.,   0.,   0.,   0.,   0.,\n",
       "         0.,   0.,   0.,   0.,   0.])"
      ]
     },
     "execution_count": 38,
     "metadata": {},
     "output_type": "execute_result"
    }
   ],
   "source": [
    "sum(answers_test)"
   ]
  },
  {
   "cell_type": "code",
   "execution_count": 39,
   "metadata": {},
   "outputs": [
    {
     "data": {
      "text/plain": [
       "18"
      ]
     },
     "execution_count": 39,
     "metadata": {},
     "output_type": "execute_result"
    }
   ],
   "source": [
    "tokenizer.word_index['yes']"
   ]
  },
  {
   "cell_type": "code",
   "execution_count": 40,
   "metadata": {},
   "outputs": [
    {
     "data": {
      "text/plain": [
       "3"
      ]
     },
     "execution_count": 40,
     "metadata": {},
     "output_type": "execute_result"
    }
   ],
   "source": [
    "tokenizer.word_index['no']"
   ]
  },
  {
   "cell_type": "markdown",
   "metadata": {},
   "source": [
    "## Creating the Model"
   ]
  },
  {
   "cell_type": "code",
   "execution_count": 41,
   "metadata": {},
   "outputs": [],
   "source": [
    "from keras.models import Sequential, Model\n",
    "from keras.layers.embeddings import Embedding\n",
    "from keras.layers import Input, Activation, Dense, Permute, Dropout\n",
    "from keras.layers import add, dot, concatenate\n",
    "from keras.layers import LSTM"
   ]
  },
  {
   "cell_type": "markdown",
   "metadata": {},
   "source": [
    "### Placeholders for Inputs\n",
    "\n",
    "Recall we technically have two inputs, stories and questions. So we need to use placeholders. `Input()` is used to instantiate a Keras tensor.\n"
   ]
  },
  {
   "cell_type": "code",
   "execution_count": 42,
   "metadata": {},
   "outputs": [],
   "source": [
    "input_sequence = Input((max_story_len,))\n",
    "question = Input((max_question_len,))"
   ]
  },
  {
   "cell_type": "markdown",
   "metadata": {
    "collapsed": true
   },
   "source": [
    "### Building the Networks\n",
    "\n",
    "To understand why we chose this setup, make sure to read the paper we are using:\n",
    "\n",
    "* Sainbayar Sukhbaatar, Arthur Szlam, Jason Weston, Rob Fergus,\n",
    "  \"End-To-End Memory Networks\",\n",
    "  http://arxiv.org/abs/1503.08895"
   ]
  },
  {
   "cell_type": "markdown",
   "metadata": {},
   "source": [
    "## Encoders\n",
    "\n",
    "### Input Encoder m"
   ]
  },
  {
   "cell_type": "code",
   "execution_count": 43,
   "metadata": {},
   "outputs": [
    {
     "name": "stdout",
     "output_type": "stream",
     "text": [
      "WARNING:tensorflow:From /home/hanxinle/anaconda2/envs/nlp_course/lib/python3.7/site-packages/tensorflow/python/framework/op_def_library.py:263: colocate_with (from tensorflow.python.framework.ops) is deprecated and will be removed in a future version.\n",
      "Instructions for updating:\n",
      "Colocations handled automatically by placer.\n",
      "WARNING:tensorflow:From /home/hanxinle/anaconda2/envs/nlp_course/lib/python3.7/site-packages/keras/backend/tensorflow_backend.py:3445: calling dropout (from tensorflow.python.ops.nn_ops) with keep_prob is deprecated and will be removed in a future version.\n",
      "Instructions for updating:\n",
      "Please use `rate` instead of `keep_prob`. Rate should be set to `rate = 1 - keep_prob`.\n"
     ]
    }
   ],
   "source": [
    "# Input gets embedded to a sequence of vectors\n",
    "input_encoder_m = Sequential()\n",
    "input_encoder_m.add(Embedding(input_dim=vocab_size,output_dim=64))\n",
    "input_encoder_m.add(Dropout(0.3))\n",
    "\n",
    "# This encoder will output:\n",
    "# (samples, story_maxlen, embedding_dim)"
   ]
  },
  {
   "cell_type": "markdown",
   "metadata": {},
   "source": [
    "### Input Encoder c"
   ]
  },
  {
   "cell_type": "code",
   "execution_count": 44,
   "metadata": {},
   "outputs": [],
   "source": [
    "# embed the input into a sequence of vectors of size query_maxlen\n",
    "input_encoder_c = Sequential()\n",
    "input_encoder_c.add(Embedding(input_dim=vocab_size,output_dim=max_question_len))\n",
    "input_encoder_c.add(Dropout(0.3))\n",
    "# output: (samples, story_maxlen, query_maxlen)"
   ]
  },
  {
   "cell_type": "markdown",
   "metadata": {},
   "source": [
    "### Question Encoder"
   ]
  },
  {
   "cell_type": "code",
   "execution_count": 45,
   "metadata": {},
   "outputs": [],
   "source": [
    "# embed the question into a sequence of vectors\n",
    "question_encoder = Sequential()\n",
    "question_encoder.add(Embedding(input_dim=vocab_size,\n",
    "                               output_dim=64,\n",
    "                               input_length=max_question_len))\n",
    "question_encoder.add(Dropout(0.3))\n",
    "# output: (samples, query_maxlen, embedding_dim)"
   ]
  },
  {
   "cell_type": "markdown",
   "metadata": {},
   "source": [
    "### Encode the Sequences"
   ]
  },
  {
   "cell_type": "code",
   "execution_count": 46,
   "metadata": {},
   "outputs": [],
   "source": [
    "# encode input sequence and questions (which are indices)\n",
    "# to sequences of dense vectors\n",
    "input_encoded_m = input_encoder_m(input_sequence)\n",
    "input_encoded_c = input_encoder_c(input_sequence)\n",
    "question_encoded = question_encoder(question)"
   ]
  },
  {
   "cell_type": "markdown",
   "metadata": {},
   "source": [
    "##### Use dot product to compute the match between first input vector seq and the query"
   ]
  },
  {
   "cell_type": "code",
   "execution_count": 47,
   "metadata": {},
   "outputs": [],
   "source": [
    "# shape: `(samples, story_maxlen, query_maxlen)`\n",
    "match = dot([input_encoded_m, question_encoded], axes=(2, 2))\n",
    "match = Activation('softmax')(match)"
   ]
  },
  {
   "cell_type": "markdown",
   "metadata": {},
   "source": [
    "#### Add this match matrix with the second input vector sequence"
   ]
  },
  {
   "cell_type": "code",
   "execution_count": 48,
   "metadata": {},
   "outputs": [],
   "source": [
    "# add the match matrix with the second input vector sequence\n",
    "response = add([match, input_encoded_c])  # (samples, story_maxlen, query_maxlen)\n",
    "response = Permute((2, 1))(response)  # (samples, query_maxlen, story_maxlen)"
   ]
  },
  {
   "cell_type": "markdown",
   "metadata": {},
   "source": [
    "#### Concatenate"
   ]
  },
  {
   "cell_type": "code",
   "execution_count": 49,
   "metadata": {},
   "outputs": [],
   "source": [
    "# concatenate the match matrix with the question vector sequence\n",
    "answer = concatenate([response, question_encoded])"
   ]
  },
  {
   "cell_type": "code",
   "execution_count": 50,
   "metadata": {},
   "outputs": [
    {
     "data": {
      "text/plain": [
       "<tf.Tensor 'concatenate_1/concat:0' shape=(?, 6, 220) dtype=float32>"
      ]
     },
     "execution_count": 50,
     "metadata": {},
     "output_type": "execute_result"
    }
   ],
   "source": [
    "answer"
   ]
  },
  {
   "cell_type": "code",
   "execution_count": 51,
   "metadata": {},
   "outputs": [],
   "source": [
    "# Reduce with RNN (LSTM)\n",
    "answer = LSTM(32)(answer)  # (samples, 32)"
   ]
  },
  {
   "cell_type": "code",
   "execution_count": 52,
   "metadata": {},
   "outputs": [],
   "source": [
    "# Regularization with Dropout\n",
    "answer = Dropout(0.5)(answer)\n",
    "answer = Dense(vocab_size)(answer)  # (samples, vocab_size)"
   ]
  },
  {
   "cell_type": "code",
   "execution_count": 53,
   "metadata": {},
   "outputs": [],
   "source": [
    "# we output a probability distribution over the vocabulary\n",
    "answer = Activation('softmax')(answer)\n",
    "\n",
    "# build the final model\n",
    "model = Model([input_sequence, question], answer)\n",
    "model.compile(optimizer='rmsprop', loss='categorical_crossentropy',\n",
    "              metrics=['accuracy'])"
   ]
  },
  {
   "cell_type": "code",
   "execution_count": 54,
   "metadata": {},
   "outputs": [
    {
     "name": "stdout",
     "output_type": "stream",
     "text": [
      "__________________________________________________________________________________________________\n",
      "Layer (type)                    Output Shape         Param #     Connected to                     \n",
      "==================================================================================================\n",
      "input_1 (InputLayer)            (None, 156)          0                                            \n",
      "__________________________________________________________________________________________________\n",
      "input_2 (InputLayer)            (None, 6)            0                                            \n",
      "__________________________________________________________________________________________________\n",
      "sequential_1 (Sequential)       multiple             2432        input_1[0][0]                    \n",
      "__________________________________________________________________________________________________\n",
      "sequential_3 (Sequential)       (None, 6, 64)        2432        input_2[0][0]                    \n",
      "__________________________________________________________________________________________________\n",
      "dot_1 (Dot)                     (None, 156, 6)       0           sequential_1[1][0]               \n",
      "                                                                 sequential_3[1][0]               \n",
      "__________________________________________________________________________________________________\n",
      "activation_1 (Activation)       (None, 156, 6)       0           dot_1[0][0]                      \n",
      "__________________________________________________________________________________________________\n",
      "sequential_2 (Sequential)       multiple             228         input_1[0][0]                    \n",
      "__________________________________________________________________________________________________\n",
      "add_1 (Add)                     (None, 156, 6)       0           activation_1[0][0]               \n",
      "                                                                 sequential_2[1][0]               \n",
      "__________________________________________________________________________________________________\n",
      "permute_1 (Permute)             (None, 6, 156)       0           add_1[0][0]                      \n",
      "__________________________________________________________________________________________________\n",
      "concatenate_1 (Concatenate)     (None, 6, 220)       0           permute_1[0][0]                  \n",
      "                                                                 sequential_3[1][0]               \n",
      "__________________________________________________________________________________________________\n",
      "lstm_1 (LSTM)                   (None, 32)           32384       concatenate_1[0][0]              \n",
      "__________________________________________________________________________________________________\n",
      "dropout_4 (Dropout)             (None, 32)           0           lstm_1[0][0]                     \n",
      "__________________________________________________________________________________________________\n",
      "dense_1 (Dense)                 (None, 38)           1254        dropout_4[0][0]                  \n",
      "__________________________________________________________________________________________________\n",
      "activation_2 (Activation)       (None, 38)           0           dense_1[0][0]                    \n",
      "==================================================================================================\n",
      "Total params: 38,730\n",
      "Trainable params: 38,730\n",
      "Non-trainable params: 0\n",
      "__________________________________________________________________________________________________\n"
     ]
    }
   ],
   "source": [
    "model.summary()"
   ]
  },
  {
   "cell_type": "code",
   "execution_count": 55,
   "metadata": {},
   "outputs": [
    {
     "name": "stdout",
     "output_type": "stream",
     "text": [
      "WARNING:tensorflow:From /home/hanxinle/anaconda2/envs/nlp_course/lib/python3.7/site-packages/tensorflow/python/ops/math_ops.py:3066: to_int32 (from tensorflow.python.ops.math_ops) is deprecated and will be removed in a future version.\n",
      "Instructions for updating:\n",
      "Use tf.cast instead.\n",
      "WARNING:tensorflow:From /home/hanxinle/anaconda2/envs/nlp_course/lib/python3.7/site-packages/tensorflow/python/ops/math_grad.py:102: div (from tensorflow.python.ops.math_ops) is deprecated and will be removed in a future version.\n",
      "Instructions for updating:\n",
      "Deprecated in favor of operator or tf.math.divide.\n",
      "Train on 10000 samples, validate on 1000 samples\n",
      "Epoch 1/120\n",
      "10000/10000 [==============================] - 5s 529us/step - loss: 0.9257 - acc: 0.4979 - val_loss: 0.6959 - val_acc: 0.4970\n",
      "Epoch 2/120\n",
      "10000/10000 [==============================] - 3s 334us/step - loss: 0.7076 - acc: 0.4890 - val_loss: 0.6942 - val_acc: 0.4970\n",
      "Epoch 3/120\n",
      "10000/10000 [==============================] - 4s 353us/step - loss: 0.6971 - acc: 0.4966 - val_loss: 0.6943 - val_acc: 0.5030\n",
      "Epoch 4/120\n",
      "10000/10000 [==============================] - 3s 350us/step - loss: 0.6947 - acc: 0.4974 - val_loss: 0.6934 - val_acc: 0.5030\n",
      "Epoch 5/120\n",
      "10000/10000 [==============================] - 3s 298us/step - loss: 0.6940 - acc: 0.5102 - val_loss: 0.6936 - val_acc: 0.4970\n",
      "Epoch 6/120\n",
      "10000/10000 [==============================] - 3s 296us/step - loss: 0.6945 - acc: 0.5112 - val_loss: 0.6937 - val_acc: 0.4970\n",
      "Epoch 7/120\n",
      "10000/10000 [==============================] - 3s 296us/step - loss: 0.6950 - acc: 0.4977 - val_loss: 0.6932 - val_acc: 0.4970\n",
      "Epoch 8/120\n",
      "10000/10000 [==============================] - 3s 296us/step - loss: 0.6944 - acc: 0.5069 - val_loss: 0.6942 - val_acc: 0.5030\n",
      "Epoch 9/120\n",
      "10000/10000 [==============================] - 3s 295us/step - loss: 0.6945 - acc: 0.5038 - val_loss: 0.6937 - val_acc: 0.4890\n",
      "Epoch 10/120\n",
      "10000/10000 [==============================] - 3s 312us/step - loss: 0.6938 - acc: 0.5096 - val_loss: 0.6937 - val_acc: 0.5010\n",
      "Epoch 11/120\n",
      "10000/10000 [==============================] - 3s 316us/step - loss: 0.6868 - acc: 0.5372 - val_loss: 0.6708 - val_acc: 0.6870\n",
      "Epoch 12/120\n",
      "10000/10000 [==============================] - 3s 317us/step - loss: 0.6513 - acc: 0.6001 - val_loss: 0.6069 - val_acc: 0.7680\n",
      "Epoch 13/120\n",
      "10000/10000 [==============================] - 3s 318us/step - loss: 0.5974 - acc: 0.6524 - val_loss: 0.5299 - val_acc: 0.8210\n",
      "Epoch 14/120\n",
      "10000/10000 [==============================] - 3s 312us/step - loss: 0.5444 - acc: 0.7195 - val_loss: 0.4692 - val_acc: 0.7940\n",
      "Epoch 15/120\n",
      "10000/10000 [==============================] - 4s 420us/step - loss: 0.4985 - acc: 0.7668 - val_loss: 0.4459 - val_acc: 0.8230\n",
      "Epoch 16/120\n",
      "10000/10000 [==============================] - 3s 309us/step - loss: 0.4494 - acc: 0.8055 - val_loss: 0.4536 - val_acc: 0.7760\n",
      "Epoch 17/120\n",
      "10000/10000 [==============================] - 3s 303us/step - loss: 0.4264 - acc: 0.8193 - val_loss: 0.3847 - val_acc: 0.8310\n",
      "Epoch 18/120\n",
      "10000/10000 [==============================] - 3s 317us/step - loss: 0.4124 - acc: 0.8271 - val_loss: 0.3909 - val_acc: 0.8300\n",
      "Epoch 19/120\n",
      "10000/10000 [==============================] - 3s 297us/step - loss: 0.3984 - acc: 0.8335 - val_loss: 0.4059 - val_acc: 0.8020\n",
      "Epoch 20/120\n",
      "10000/10000 [==============================] - 3s 325us/step - loss: 0.3890 - acc: 0.8415 - val_loss: 0.3747 - val_acc: 0.8340\n",
      "Epoch 21/120\n",
      "10000/10000 [==============================] - 3s 330us/step - loss: 0.3774 - acc: 0.8436 - val_loss: 0.3604 - val_acc: 0.8390\n",
      "Epoch 22/120\n",
      "10000/10000 [==============================] - 3s 313us/step - loss: 0.3662 - acc: 0.8500 - val_loss: 0.3580 - val_acc: 0.8430\n",
      "Epoch 23/120\n",
      "10000/10000 [==============================] - 3s 337us/step - loss: 0.3572 - acc: 0.8511 - val_loss: 0.3558 - val_acc: 0.8500\n",
      "Epoch 24/120\n",
      "10000/10000 [==============================] - 3s 320us/step - loss: 0.3505 - acc: 0.8525 - val_loss: 0.3485 - val_acc: 0.8310\n",
      "Epoch 25/120\n",
      "10000/10000 [==============================] - 3s 317us/step - loss: 0.3535 - acc: 0.8514 - val_loss: 0.3512 - val_acc: 0.8420\n",
      "Epoch 26/120\n",
      "10000/10000 [==============================] - 3s 327us/step - loss: 0.3400 - acc: 0.8544 - val_loss: 0.3416 - val_acc: 0.8360\n",
      "Epoch 27/120\n",
      "10000/10000 [==============================] - 3s 317us/step - loss: 0.3309 - acc: 0.8553 - val_loss: 0.3408 - val_acc: 0.8410\n",
      "Epoch 28/120\n",
      "10000/10000 [==============================] - 3s 320us/step - loss: 0.3304 - acc: 0.8581 - val_loss: 0.3430 - val_acc: 0.8290\n",
      "Epoch 29/120\n",
      "10000/10000 [==============================] - 5s 471us/step - loss: 0.3300 - acc: 0.8537 - val_loss: 0.3587 - val_acc: 0.8420\n",
      "Epoch 30/120\n",
      "10000/10000 [==============================] - 3s 303us/step - loss: 0.3276 - acc: 0.8598 - val_loss: 0.3458 - val_acc: 0.8270\n",
      "Epoch 31/120\n",
      "10000/10000 [==============================] - 3s 298us/step - loss: 0.3200 - acc: 0.8617 - val_loss: 0.3518 - val_acc: 0.8430\n",
      "Epoch 32/120\n",
      "10000/10000 [==============================] - 3s 330us/step - loss: 0.3177 - acc: 0.8611 - val_loss: 0.3557 - val_acc: 0.8440\n",
      "Epoch 33/120\n",
      "10000/10000 [==============================] - 3s 299us/step - loss: 0.3191 - acc: 0.8621 - val_loss: 0.3424 - val_acc: 0.8250\n",
      "Epoch 34/120\n",
      "10000/10000 [==============================] - 3s 332us/step - loss: 0.3149 - acc: 0.8623 - val_loss: 0.3444 - val_acc: 0.8420\n",
      "Epoch 35/120\n",
      "10000/10000 [==============================] - 4s 414us/step - loss: 0.3149 - acc: 0.8600 - val_loss: 0.3418 - val_acc: 0.8430\n",
      "Epoch 36/120\n",
      "10000/10000 [==============================] - 4s 431us/step - loss: 0.3131 - acc: 0.8610 - val_loss: 0.3346 - val_acc: 0.8380\n",
      "Epoch 37/120\n",
      "10000/10000 [==============================] - 4s 413us/step - loss: 0.3119 - acc: 0.8599 - val_loss: 0.3404 - val_acc: 0.8370\n",
      "Epoch 38/120\n",
      "10000/10000 [==============================] - 4s 409us/step - loss: 0.3126 - acc: 0.8575 - val_loss: 0.3417 - val_acc: 0.8310\n",
      "Epoch 39/120\n",
      "10000/10000 [==============================] - 4s 410us/step - loss: 0.3136 - acc: 0.8614 - val_loss: 0.3401 - val_acc: 0.8460\n",
      "Epoch 40/120\n",
      "10000/10000 [==============================] - 4s 402us/step - loss: 0.3120 - acc: 0.8622 - val_loss: 0.3563 - val_acc: 0.8390\n",
      "Epoch 41/120\n",
      "10000/10000 [==============================] - 4s 371us/step - loss: 0.3100 - acc: 0.8643 - val_loss: 0.3702 - val_acc: 0.8370\n",
      "Epoch 42/120\n",
      "10000/10000 [==============================] - 4s 397us/step - loss: 0.3108 - acc: 0.8620 - val_loss: 0.3556 - val_acc: 0.8360\n",
      "Epoch 43/120\n",
      "10000/10000 [==============================] - 4s 389us/step - loss: 0.3104 - acc: 0.8612 - val_loss: 0.3568 - val_acc: 0.8380\n",
      "Epoch 44/120\n",
      "10000/10000 [==============================] - 4s 391us/step - loss: 0.3083 - acc: 0.8625 - val_loss: 0.3469 - val_acc: 0.8490\n",
      "Epoch 45/120\n",
      "10000/10000 [==============================] - 4s 380us/step - loss: 0.3016 - acc: 0.8640 - val_loss: 0.3448 - val_acc: 0.8310\n",
      "Epoch 46/120\n",
      "10000/10000 [==============================] - 4s 362us/step - loss: 0.3086 - acc: 0.8621 - val_loss: 0.3371 - val_acc: 0.8430\n",
      "Epoch 47/120\n",
      "10000/10000 [==============================] - 4s 361us/step - loss: 0.3029 - acc: 0.8674 - val_loss: 0.3429 - val_acc: 0.8440\n",
      "Epoch 48/120\n",
      "10000/10000 [==============================] - 4s 364us/step - loss: 0.3072 - acc: 0.8636 - val_loss: 0.3627 - val_acc: 0.8320\n",
      "Epoch 49/120\n",
      "10000/10000 [==============================] - 4s 391us/step - loss: 0.3053 - acc: 0.8630 - val_loss: 0.3348 - val_acc: 0.8450\n",
      "Epoch 50/120\n",
      "10000/10000 [==============================] - 4s 357us/step - loss: 0.3015 - acc: 0.8660 - val_loss: 0.3495 - val_acc: 0.8300\n",
      "Epoch 51/120\n",
      "10000/10000 [==============================] - 4s 355us/step - loss: 0.3018 - acc: 0.8648 - val_loss: 0.3445 - val_acc: 0.8450\n",
      "Epoch 52/120\n",
      "10000/10000 [==============================] - 4s 364us/step - loss: 0.3011 - acc: 0.8653 - val_loss: 0.3466 - val_acc: 0.8390\n",
      "Epoch 53/120\n",
      "10000/10000 [==============================] - 4s 367us/step - loss: 0.3012 - acc: 0.8664 - val_loss: 0.3487 - val_acc: 0.8440\n",
      "Epoch 54/120\n",
      "10000/10000 [==============================] - 4s 365us/step - loss: 0.3027 - acc: 0.8670 - val_loss: 0.3456 - val_acc: 0.8280\n",
      "Epoch 55/120\n"
     ]
    },
    {
     "name": "stdout",
     "output_type": "stream",
     "text": [
      "10000/10000 [==============================] - 4s 357us/step - loss: 0.3013 - acc: 0.8653 - val_loss: 0.3431 - val_acc: 0.8360\n",
      "Epoch 56/120\n",
      "10000/10000 [==============================] - 5s 475us/step - loss: 0.2971 - acc: 0.8658 - val_loss: 0.3493 - val_acc: 0.8320\n",
      "Epoch 57/120\n",
      "10000/10000 [==============================] - 5s 521us/step - loss: 0.2954 - acc: 0.8675 - val_loss: 0.3728 - val_acc: 0.8210\n",
      "Epoch 58/120\n",
      "10000/10000 [==============================] - 5s 533us/step - loss: 0.2968 - acc: 0.8672 - val_loss: 0.3381 - val_acc: 0.8360\n",
      "Epoch 59/120\n",
      "10000/10000 [==============================] - 4s 411us/step - loss: 0.2933 - acc: 0.8702 - val_loss: 0.3418 - val_acc: 0.8420\n",
      "Epoch 60/120\n",
      "10000/10000 [==============================] - 3s 344us/step - loss: 0.2937 - acc: 0.8692 - val_loss: 0.3569 - val_acc: 0.8390\n",
      "Epoch 61/120\n",
      "10000/10000 [==============================] - 3s 325us/step - loss: 0.2969 - acc: 0.8658 - val_loss: 0.3664 - val_acc: 0.8360\n",
      "Epoch 62/120\n",
      "10000/10000 [==============================] - 3s 323us/step - loss: 0.2932 - acc: 0.8685 - val_loss: 0.3505 - val_acc: 0.8330\n",
      "Epoch 63/120\n",
      "10000/10000 [==============================] - 3s 321us/step - loss: 0.2945 - acc: 0.8685 - val_loss: 0.3613 - val_acc: 0.8380\n",
      "Epoch 64/120\n",
      "10000/10000 [==============================] - 3s 326us/step - loss: 0.2930 - acc: 0.8688 - val_loss: 0.3579 - val_acc: 0.8270\n",
      "Epoch 65/120\n",
      "10000/10000 [==============================] - 3s 325us/step - loss: 0.2947 - acc: 0.8692 - val_loss: 0.3469 - val_acc: 0.8410\n",
      "Epoch 66/120\n",
      "10000/10000 [==============================] - 3s 324us/step - loss: 0.2922 - acc: 0.8680 - val_loss: 0.3508 - val_acc: 0.8300\n",
      "Epoch 67/120\n",
      "10000/10000 [==============================] - 3s 327us/step - loss: 0.2935 - acc: 0.8675 - val_loss: 0.3533 - val_acc: 0.8350\n",
      "Epoch 68/120\n",
      "10000/10000 [==============================] - 3s 325us/step - loss: 0.2864 - acc: 0.8689 - val_loss: 0.3684 - val_acc: 0.8370\n",
      "Epoch 69/120\n",
      "10000/10000 [==============================] - 3s 325us/step - loss: 0.2906 - acc: 0.8724 - val_loss: 0.3809 - val_acc: 0.8290\n",
      "Epoch 70/120\n",
      "10000/10000 [==============================] - 3s 325us/step - loss: 0.2921 - acc: 0.8689 - val_loss: 0.3602 - val_acc: 0.8380\n",
      "Epoch 71/120\n",
      "10000/10000 [==============================] - 3s 327us/step - loss: 0.2886 - acc: 0.8684 - val_loss: 0.3505 - val_acc: 0.8300\n",
      "Epoch 72/120\n",
      "10000/10000 [==============================] - 3s 330us/step - loss: 0.2911 - acc: 0.8717 - val_loss: 0.3666 - val_acc: 0.8310\n",
      "Epoch 73/120\n",
      "10000/10000 [==============================] - 4s 407us/step - loss: 0.2909 - acc: 0.8703 - val_loss: 0.3675 - val_acc: 0.8380\n",
      "Epoch 74/120\n",
      "10000/10000 [==============================] - 4s 407us/step - loss: 0.2917 - acc: 0.8712 - val_loss: 0.3636 - val_acc: 0.8320\n",
      "Epoch 75/120\n",
      "10000/10000 [==============================] - 4s 378us/step - loss: 0.2909 - acc: 0.8705 - val_loss: 0.3611 - val_acc: 0.8370\n",
      "Epoch 76/120\n",
      "10000/10000 [==============================] - 4s 354us/step - loss: 0.2921 - acc: 0.8686 - val_loss: 0.4053 - val_acc: 0.8360\n",
      "Epoch 77/120\n",
      "10000/10000 [==============================] - 4s 367us/step - loss: 0.2906 - acc: 0.8713 - val_loss: 0.3618 - val_acc: 0.8280\n",
      "Epoch 78/120\n",
      "10000/10000 [==============================] - 3s 341us/step - loss: 0.2892 - acc: 0.8705 - val_loss: 0.3621 - val_acc: 0.8300\n",
      "Epoch 79/120\n",
      "10000/10000 [==============================] - 3s 342us/step - loss: 0.2871 - acc: 0.8722 - val_loss: 0.3732 - val_acc: 0.8330\n",
      "Epoch 80/120\n",
      "10000/10000 [==============================] - 3s 349us/step - loss: 0.2901 - acc: 0.8727 - val_loss: 0.3758 - val_acc: 0.8320\n",
      "Epoch 81/120\n",
      "10000/10000 [==============================] - 3s 347us/step - loss: 0.2866 - acc: 0.8748 - val_loss: 0.4205 - val_acc: 0.8290\n",
      "Epoch 82/120\n",
      "10000/10000 [==============================] - 4s 379us/step - loss: 0.2852 - acc: 0.8732 - val_loss: 0.3865 - val_acc: 0.8240\n",
      "Epoch 83/120\n",
      "10000/10000 [==============================] - 3s 339us/step - loss: 0.2930 - acc: 0.8700 - val_loss: 0.3783 - val_acc: 0.8360\n",
      "Epoch 84/120\n",
      "10000/10000 [==============================] - 4s 351us/step - loss: 0.2849 - acc: 0.8720 - val_loss: 0.3559 - val_acc: 0.8310\n",
      "Epoch 85/120\n",
      "10000/10000 [==============================] - 3s 305us/step - loss: 0.2840 - acc: 0.8732 - val_loss: 0.4081 - val_acc: 0.8370\n",
      "Epoch 86/120\n",
      "10000/10000 [==============================] - 3s 314us/step - loss: 0.2879 - acc: 0.8714 - val_loss: 0.3642 - val_acc: 0.8310\n",
      "Epoch 87/120\n",
      "10000/10000 [==============================] - 3s 322us/step - loss: 0.2821 - acc: 0.8754 - val_loss: 0.3785 - val_acc: 0.8340\n",
      "Epoch 88/120\n",
      "10000/10000 [==============================] - 3s 327us/step - loss: 0.2791 - acc: 0.8747 - val_loss: 0.3810 - val_acc: 0.8310\n",
      "Epoch 89/120\n",
      "10000/10000 [==============================] - 3s 299us/step - loss: 0.2774 - acc: 0.8772 - val_loss: 0.3724 - val_acc: 0.8410\n",
      "Epoch 90/120\n",
      "10000/10000 [==============================] - 3s 315us/step - loss: 0.2778 - acc: 0.8789 - val_loss: 0.3880 - val_acc: 0.8170\n",
      "Epoch 91/120\n",
      "10000/10000 [==============================] - 4s 351us/step - loss: 0.2800 - acc: 0.8777 - val_loss: 0.3608 - val_acc: 0.8350\n",
      "Epoch 92/120\n",
      "10000/10000 [==============================] - 4s 405us/step - loss: 0.2801 - acc: 0.8788 - val_loss: 0.3753 - val_acc: 0.8310\n",
      "Epoch 93/120\n",
      "10000/10000 [==============================] - 4s 353us/step - loss: 0.2768 - acc: 0.8774 - val_loss: 0.3805 - val_acc: 0.8250\n",
      "Epoch 94/120\n",
      "10000/10000 [==============================] - 3s 347us/step - loss: 0.2774 - acc: 0.8777 - val_loss: 0.3824 - val_acc: 0.8270\n",
      "Epoch 95/120\n",
      "10000/10000 [==============================] - 3s 342us/step - loss: 0.2773 - acc: 0.8772 - val_loss: 0.3867 - val_acc: 0.8350\n",
      "Epoch 96/120\n",
      "10000/10000 [==============================] - 3s 326us/step - loss: 0.2822 - acc: 0.8771 - val_loss: 0.3661 - val_acc: 0.8300\n",
      "Epoch 97/120\n",
      "10000/10000 [==============================] - 3s 333us/step - loss: 0.2825 - acc: 0.8774 - val_loss: 0.3883 - val_acc: 0.8350\n",
      "Epoch 98/120\n",
      "10000/10000 [==============================] - 3s 338us/step - loss: 0.2840 - acc: 0.8772 - val_loss: 0.3991 - val_acc: 0.8330\n",
      "Epoch 99/120\n",
      "10000/10000 [==============================] - 4s 402us/step - loss: 0.2730 - acc: 0.8794 - val_loss: 0.3900 - val_acc: 0.8210\n",
      "Epoch 100/120\n",
      "10000/10000 [==============================] - 3s 316us/step - loss: 0.2762 - acc: 0.8786 - val_loss: 0.3765 - val_acc: 0.8370\n",
      "Epoch 101/120\n",
      "10000/10000 [==============================] - 3s 322us/step - loss: 0.2745 - acc: 0.8829 - val_loss: 0.4867 - val_acc: 0.8300\n",
      "Epoch 102/120\n",
      "10000/10000 [==============================] - 3s 334us/step - loss: 0.2750 - acc: 0.8827 - val_loss: 0.4321 - val_acc: 0.8240\n",
      "Epoch 103/120\n",
      "10000/10000 [==============================] - 3s 336us/step - loss: 0.2721 - acc: 0.8820 - val_loss: 0.4351 - val_acc: 0.8280\n",
      "Epoch 104/120\n",
      "10000/10000 [==============================] - 4s 378us/step - loss: 0.2729 - acc: 0.8826 - val_loss: 0.4235 - val_acc: 0.8300\n",
      "Epoch 105/120\n",
      "10000/10000 [==============================] - 4s 391us/step - loss: 0.2717 - acc: 0.8850 - val_loss: 0.3903 - val_acc: 0.8330\n",
      "Epoch 106/120\n",
      "10000/10000 [==============================] - 3s 341us/step - loss: 0.2683 - acc: 0.8883 - val_loss: 0.4217 - val_acc: 0.8320\n",
      "Epoch 107/120\n",
      "10000/10000 [==============================] - 4s 352us/step - loss: 0.2685 - acc: 0.8855 - val_loss: 0.3985 - val_acc: 0.8350\n",
      "Epoch 108/120\n",
      "10000/10000 [==============================] - 4s 353us/step - loss: 0.2722 - acc: 0.8871 - val_loss: 0.4612 - val_acc: 0.8280\n",
      "Epoch 109/120\n",
      "10000/10000 [==============================] - 4s 363us/step - loss: 0.2583 - acc: 0.8862 - val_loss: 0.3972 - val_acc: 0.8280\n",
      "Epoch 110/120\n",
      "10000/10000 [==============================] - 3s 334us/step - loss: 0.2642 - acc: 0.8863 - val_loss: 0.4610 - val_acc: 0.8380\n",
      "Epoch 111/120\n",
      "10000/10000 [==============================] - 5s 485us/step - loss: 0.2625 - acc: 0.8861 - val_loss: 0.4196 - val_acc: 0.8300\n",
      "Epoch 112/120\n",
      "10000/10000 [==============================] - 6s 573us/step - loss: 0.2660 - acc: 0.8859 - val_loss: 0.4063 - val_acc: 0.8290\n",
      "Epoch 113/120\n"
     ]
    },
    {
     "name": "stdout",
     "output_type": "stream",
     "text": [
      "10000/10000 [==============================] - 5s 540us/step - loss: 0.2668 - acc: 0.8852 - val_loss: 0.4431 - val_acc: 0.8270\n",
      "Epoch 114/120\n",
      "10000/10000 [==============================] - 4s 351us/step - loss: 0.2582 - acc: 0.8941 - val_loss: 0.4659 - val_acc: 0.8270\n",
      "Epoch 115/120\n",
      "10000/10000 [==============================] - 4s 360us/step - loss: 0.2613 - acc: 0.8889 - val_loss: 0.4473 - val_acc: 0.8290\n",
      "Epoch 116/120\n",
      "10000/10000 [==============================] - 3s 322us/step - loss: 0.2625 - acc: 0.8873 - val_loss: 0.4373 - val_acc: 0.8270\n",
      "Epoch 117/120\n",
      "10000/10000 [==============================] - 3s 313us/step - loss: 0.2642 - acc: 0.8919 - val_loss: 0.4491 - val_acc: 0.8220\n",
      "Epoch 118/120\n",
      "10000/10000 [==============================] - 3s 341us/step - loss: 0.2627 - acc: 0.8916 - val_loss: 0.4563 - val_acc: 0.8350\n",
      "Epoch 119/120\n",
      "10000/10000 [==============================] - 4s 375us/step - loss: 0.2590 - acc: 0.8911 - val_loss: 0.4731 - val_acc: 0.8360\n",
      "Epoch 120/120\n",
      "10000/10000 [==============================] - 3s 337us/step - loss: 0.2538 - acc: 0.8924 - val_loss: 0.4785 - val_acc: 0.8250\n"
     ]
    }
   ],
   "source": [
    "# train\n",
    "history = model.fit([inputs_train, queries_train], answers_train,batch_size=32,epochs=120,validation_data=([inputs_test, queries_test], answers_test))"
   ]
  },
  {
   "cell_type": "markdown",
   "metadata": {},
   "source": [
    "### Saving the Model"
   ]
  },
  {
   "cell_type": "code",
   "execution_count": 59,
   "metadata": {},
   "outputs": [],
   "source": [
    "filename = 'chatbot_120_epochs.h5'\n",
    "model.save(filename)"
   ]
  },
  {
   "cell_type": "markdown",
   "metadata": {},
   "source": [
    "## Evaluating the Model\n",
    "\n",
    "### Plotting Out Training History"
   ]
  },
  {
   "cell_type": "code",
   "execution_count": 60,
   "metadata": {},
   "outputs": [
    {
     "name": "stdout",
     "output_type": "stream",
     "text": [
      "dict_keys(['val_loss', 'val_acc', 'loss', 'acc'])\n"
     ]
    },
    {
     "data": {
      "image/png": "[encoded data removed]",
      "text/plain": [
       "<Figure size 432x288 with 1 Axes>"
      ]
     },
     "metadata": {
      "needs_background": "light"
     },
     "output_type": "display_data"
    }
   ],
   "source": [
    "import matplotlib.pyplot as plt\n",
    "%matplotlib inline\n",
    "print(history.history.keys())\n",
    "# summarize history for accuracy\n",
    "plt.plot(history.history['acc'])\n",
    "plt.plot(history.history['val_acc'])\n",
    "plt.title('model accuracy')\n",
    "plt.ylabel('accuracy')\n",
    "plt.xlabel('epoch')\n",
    "plt.legend(['train', 'test'], loc='upper left')\n",
    "plt.show()"
   ]
  },
  {
   "cell_type": "markdown",
   "metadata": {},
   "source": [
    "### Evaluating on Given Test Set"
   ]
  },
  {
   "cell_type": "code",
   "execution_count": 61,
   "metadata": {},
   "outputs": [],
   "source": [
    "model.load_weights(filename)\n",
    "pred_results = model.predict(([inputs_test, queries_test]))"
   ]
  },
  {
   "cell_type": "code",
   "execution_count": 62,
   "metadata": {},
   "outputs": [
    {
     "data": {
      "text/plain": [
       "['Mary',\n",
       " 'got',\n",
       " 'the',\n",
       " 'milk',\n",
       " 'there',\n",
       " '.',\n",
       " 'John',\n",
       " 'moved',\n",
       " 'to',\n",
       " 'the',\n",
       " 'bedroom',\n",
       " '.']"
      ]
     },
     "execution_count": 62,
     "metadata": {},
     "output_type": "execute_result"
    }
   ],
   "source": [
    "test_data[0][0]"
   ]
  },
  {
   "cell_type": "code",
   "execution_count": 63,
   "metadata": {},
   "outputs": [
    {
     "name": "stdout",
     "output_type": "stream",
     "text": [
      "Mary got the milk there . John moved to the bedroom .\n"
     ]
    }
   ],
   "source": [
    "story =' '.join(word for word in test_data[0][0])\n",
    "print(story)"
   ]
  },
  {
   "cell_type": "code",
   "execution_count": 64,
   "metadata": {},
   "outputs": [
    {
     "name": "stdout",
     "output_type": "stream",
     "text": [
      "Is John in the kitchen ?\n"
     ]
    }
   ],
   "source": [
    "query = ' '.join(word for word in test_data[0][1])\n",
    "print(query)"
   ]
  },
  {
   "cell_type": "code",
   "execution_count": 65,
   "metadata": {},
   "outputs": [
    {
     "name": "stdout",
     "output_type": "stream",
     "text": [
      "True Test Answer from Data is: no\n"
     ]
    }
   ],
   "source": [
    "print(\"True Test Answer from Data is:\",test_data[0][2])"
   ]
  },
  {
   "cell_type": "code",
   "execution_count": 66,
   "metadata": {},
   "outputs": [
    {
     "name": "stdout",
     "output_type": "stream",
     "text": [
      "Predicted answer is:  no\n",
      "Probability of certainty was:  1.0\n"
     ]
    }
   ],
   "source": [
    "#Generate prediction from model\n",
    "val_max = np.argmax(pred_results[0])\n",
    "\n",
    "for key, val in tokenizer.word_index.items():\n",
    "    if val == val_max:\n",
    "        k = key\n",
    "\n",
    "print(\"Predicted answer is: \", k)\n",
    "print(\"Probability of certainty was: \", pred_results[0][val_max])"
   ]
  },
  {
   "cell_type": "markdown",
   "metadata": {},
   "source": [
    "## Writing Your Own Stories and Questions\n",
    "\n",
    "Remember you can only use words from the existing vocab"
   ]
  },
  {
   "cell_type": "code",
   "execution_count": 67,
   "metadata": {},
   "outputs": [
    {
     "data": {
      "text/plain": [
       "{'.',\n",
       " '?',\n",
       " 'Daniel',\n",
       " 'Is',\n",
       " 'John',\n",
       " 'Mary',\n",
       " 'Sandra',\n",
       " 'apple',\n",
       " 'back',\n",
       " 'bathroom',\n",
       " 'bedroom',\n",
       " 'discarded',\n",
       " 'down',\n",
       " 'dropped',\n",
       " 'football',\n",
       " 'garden',\n",
       " 'got',\n",
       " 'grabbed',\n",
       " 'hallway',\n",
       " 'in',\n",
       " 'journeyed',\n",
       " 'kitchen',\n",
       " 'left',\n",
       " 'milk',\n",
       " 'moved',\n",
       " 'no',\n",
       " 'office',\n",
       " 'picked',\n",
       " 'put',\n",
       " 'the',\n",
       " 'there',\n",
       " 'to',\n",
       " 'took',\n",
       " 'travelled',\n",
       " 'up',\n",
       " 'went',\n",
       " 'yes'}"
      ]
     },
     "execution_count": 67,
     "metadata": {},
     "output_type": "execute_result"
    }
   ],
   "source": [
    "vocab"
   ]
  },
  {
   "cell_type": "code",
   "execution_count": 68,
   "metadata": {},
   "outputs": [
    {
     "data": {
      "text/plain": [
       "['John',\n",
       " 'left',\n",
       " 'the',\n",
       " 'kitchen',\n",
       " '.',\n",
       " 'Sandra',\n",
       " 'dropped',\n",
       " 'the',\n",
       " 'football',\n",
       " 'in',\n",
       " 'the',\n",
       " 'garden',\n",
       " '.']"
      ]
     },
     "execution_count": 68,
     "metadata": {},
     "output_type": "execute_result"
    }
   ],
   "source": [
    "# Note the whitespace of the periods\n",
    "my_story = \"John left the kitchen . Sandra dropped the football in the garden .\"\n",
    "my_story.split()"
   ]
  },
  {
   "cell_type": "code",
   "execution_count": 69,
   "metadata": {},
   "outputs": [],
   "source": [
    "my_question = \"Is the football in the garden ?\""
   ]
  },
  {
   "cell_type": "code",
   "execution_count": 70,
   "metadata": {},
   "outputs": [
    {
     "data": {
      "text/plain": [
       "['Is', 'the', 'football', 'in', 'the', 'garden', '?']"
      ]
     },
     "execution_count": 70,
     "metadata": {},
     "output_type": "execute_result"
    }
   ],
   "source": [
    "my_question.split()"
   ]
  },
  {
   "cell_type": "code",
   "execution_count": 71,
   "metadata": {},
   "outputs": [],
   "source": [
    "mydata = [(my_story.split(),my_question.split(),'yes')]"
   ]
  },
  {
   "cell_type": "code",
   "execution_count": 72,
   "metadata": {},
   "outputs": [],
   "source": [
    "my_story,my_ques,my_ans = vectorize_stories(mydata)"
   ]
  },
  {
   "cell_type": "code",
   "execution_count": 73,
   "metadata": {},
   "outputs": [],
   "source": [
    "pred_results = model.predict(([ my_story, my_ques]))"
   ]
  },
  {
   "cell_type": "code",
   "execution_count": 74,
   "metadata": {},
   "outputs": [
    {
     "name": "stdout",
     "output_type": "stream",
     "text": [
      "Predicted answer is:  no\n",
      "Probability of certainty was:  0.9556777\n"
     ]
    }
   ],
   "source": [
    "#Generate prediction from model\n",
    "val_max = np.argmax(pred_results[0])\n",
    "\n",
    "for key, val in tokenizer.word_index.items():\n",
    "    if val == val_max:\n",
    "        k = key\n",
    "\n",
    "print(\"Predicted answer is: \", k)\n",
    "print(\"Probability of certainty was: \", pred_results[0][val_max])"
   ]
  },
  {
   "cell_type": "markdown",
   "metadata": {},
   "source": [
    "# Great Job!"
   ]
  }
 ],
 "metadata": {
  "kernelspec": {
   "display_name": "Python 3",
   "language": "python",
   "name": "python3"
  },
  "language_info": {
   "codemirror_mode": {
    "name": "ipython",
    "version": 3
   },
   "file_extension": ".py",
   "mimetype": "text/x-python",
   "name": "python",
   "nbconvert_exporter": "python",
   "pygments_lexer": "ipython3",
   "version": "3.7.5"
  }
 },
 "nbformat": 4,
 "nbformat_minor": 2
}
